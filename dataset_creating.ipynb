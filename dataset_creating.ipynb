{
  "nbformat": 4,
  "nbformat_minor": 0,
  "metadata": {
    "colab": {
      "name": "dataset_creating.ipynb",
      "provenance": [],
      "mount_file_id": "11uugGgO3K-AvP1gx7a7Y_b---djD-7HG",
      "authorship_tag": "ABX9TyNAZ/aKDrnyUjUAHe/VFK33"
    },
    "kernelspec": {
      "name": "python3",
      "display_name": "Python 3"
    },
    "language_info": {
      "name": "python"
    }
  },
  "cells": [
    {
      "cell_type": "markdown",
      "source": [
        "<h1 align='center'>Transforming Dataset</h1>\n",
        "<hr color=cian>"
      ],
      "metadata": {
        "id": "VPeYOtArScVP"
      }
    },
    {
      "cell_type": "code",
      "source": [
        "import pandas as pd\n",
        "import numpy as np"
      ],
      "metadata": {
        "id": "GNkQJX4fkyHt"
      },
      "execution_count": 1,
      "outputs": []
    },
    {
      "cell_type": "code",
      "source": [
        "path = '/content/drive/MyDrive/Colab Notebooks/mart_file.csv'"
      ],
      "metadata": {
        "id": "1ORz-RcTm43Q"
      },
      "execution_count": 2,
      "outputs": []
    },
    {
      "cell_type": "markdown",
      "source": [
        "<h5>Describe the file</h5>"
      ],
      "metadata": {
        "id": "Viph-Sp07y--"
      }
    },
    {
      "cell_type": "code",
      "source": [
        "import chardet\n",
        "with open(path, 'rb') as rawdata:\n",
        "    result = chardet.detect(rawdata.read(100000))\n",
        "result"
      ],
      "metadata": {
        "colab": {
          "base_uri": "https://localhost:8080/"
        },
        "id": "gWnieCyIpBub",
        "outputId": "d3f13b0e-2561-4e22-f53f-823cfbc63446"
      },
      "execution_count": 3,
      "outputs": [
        {
          "output_type": "execute_result",
          "data": {
            "text/plain": [
              "{'confidence': 1.0, 'encoding': 'UTF-16', 'language': ''}"
            ]
          },
          "metadata": {},
          "execution_count": 3
        }
      ]
    },
    {
      "cell_type": "code",
      "source": [
        "df2= pd.read_csv(path, encoding='utf-16', error_bad_lines=False, sep='\\t')\n",
        "df2.head()"
      ],
      "metadata": {
        "colab": {
          "base_uri": "https://localhost:8080/",
          "height": 687
        },
        "id": "-QDC-zsArsgX",
        "outputId": "117a8186-e006-44d7-c6eb-cd0a4411ce97"
      },
      "execution_count": 4,
      "outputs": [
        {
          "output_type": "stream",
          "name": "stderr",
          "text": [
            "/usr/local/lib/python3.7/dist-packages/IPython/core/interactiveshell.py:2882: FutureWarning: The error_bad_lines argument has been deprecated and will be removed in a future version.\n",
            "\n",
            "\n",
            "  exec(code_obj, self.user_global_ns, self.user_ns)\n"
          ]
        },
        {
          "output_type": "execute_result",
          "data": {
            "text/html": [
              "\n",
              "  <div id=\"df-124d9c7c-c2d7-4275-86fc-ae2d993eecb6\">\n",
              "    <div class=\"colab-df-container\">\n",
              "      <div>\n",
              "<style scoped>\n",
              "    .dataframe tbody tr th:only-of-type {\n",
              "        vertical-align: middle;\n",
              "    }\n",
              "\n",
              "    .dataframe tbody tr th {\n",
              "        vertical-align: top;\n",
              "    }\n",
              "\n",
              "    .dataframe thead th {\n",
              "        text-align: right;\n",
              "    }\n",
              "</style>\n",
              "<table border=\"1\" class=\"dataframe\">\n",
              "  <thead>\n",
              "    <tr style=\"text-align: right;\">\n",
              "      <th></th>\n",
              "      <th>Row ID</th>\n",
              "      <th>Order ID</th>\n",
              "      <th>Order Date</th>\n",
              "      <th>Ship Date</th>\n",
              "      <th>Ship Mode</th>\n",
              "      <th>Customer ID</th>\n",
              "      <th>Customer Name</th>\n",
              "      <th>Sales Agent ID</th>\n",
              "      <th>Country/Region</th>\n",
              "      <th>City</th>\n",
              "      <th>State</th>\n",
              "      <th>Postal Code</th>\n",
              "      <th>Region</th>\n",
              "      <th>Product ID</th>\n",
              "      <th>Category</th>\n",
              "      <th>Sub-Category</th>\n",
              "      <th>Product Name</th>\n",
              "      <th>Sales</th>\n",
              "      <th>Quantity</th>\n",
              "    </tr>\n",
              "  </thead>\n",
              "  <tbody>\n",
              "    <tr>\n",
              "      <th>0</th>\n",
              "      <td>1</td>\n",
              "      <td>CA-152156-2018_11_08</td>\n",
              "      <td>2018/11/08</td>\n",
              "      <td>2018/11/11</td>\n",
              "      <td>Second Class</td>\n",
              "      <td>CG-12520</td>\n",
              "      <td>Claire Gute</td>\n",
              "      <td>16.0</td>\n",
              "      <td>United States</td>\n",
              "      <td>Henderson</td>\n",
              "      <td>Kentucky</td>\n",
              "      <td>42420.0</td>\n",
              "      <td>South</td>\n",
              "      <td>FUR-BO-10001798</td>\n",
              "      <td>Furniture</td>\n",
              "      <td>Bookcases</td>\n",
              "      <td>Bush Somerset Collection Bookcase</td>\n",
              "      <td>261.9600</td>\n",
              "      <td>2</td>\n",
              "    </tr>\n",
              "    <tr>\n",
              "      <th>1</th>\n",
              "      <td>2</td>\n",
              "      <td>CA-152156-2018_11_08</td>\n",
              "      <td>2018/11/08</td>\n",
              "      <td>2018/11/11</td>\n",
              "      <td>Second Class</td>\n",
              "      <td>CG-12520</td>\n",
              "      <td>Claire Gute</td>\n",
              "      <td>16.0</td>\n",
              "      <td>United States</td>\n",
              "      <td>Henderson</td>\n",
              "      <td>Kentucky</td>\n",
              "      <td>42420.0</td>\n",
              "      <td>South</td>\n",
              "      <td>FUR-CH-10000454</td>\n",
              "      <td>Furniture</td>\n",
              "      <td>Chairs</td>\n",
              "      <td>Hon Deluxe Fabric Upholstered Stacking Chairs,...</td>\n",
              "      <td>731.9400</td>\n",
              "      <td>3</td>\n",
              "    </tr>\n",
              "    <tr>\n",
              "      <th>2</th>\n",
              "      <td>3</td>\n",
              "      <td>CA-138688-2018_06_12</td>\n",
              "      <td>2018/06/12</td>\n",
              "      <td>2018/06/16</td>\n",
              "      <td>Second Class</td>\n",
              "      <td>DV-13045</td>\n",
              "      <td>Darrin Van Huff</td>\n",
              "      <td>4.0</td>\n",
              "      <td>United States</td>\n",
              "      <td>Los Angeles</td>\n",
              "      <td>California</td>\n",
              "      <td>90036.0</td>\n",
              "      <td>West</td>\n",
              "      <td>OFF-LA-10000240</td>\n",
              "      <td>Office Supplies</td>\n",
              "      <td>Labels</td>\n",
              "      <td>Self-Adhesive Address Labels for Typewriters b...</td>\n",
              "      <td>14.6200</td>\n",
              "      <td>2</td>\n",
              "    </tr>\n",
              "    <tr>\n",
              "      <th>3</th>\n",
              "      <td>4</td>\n",
              "      <td>US-108966-2017_10_11</td>\n",
              "      <td>2017/10/11</td>\n",
              "      <td>2017/10/18</td>\n",
              "      <td>Standard Class</td>\n",
              "      <td>SO-20335</td>\n",
              "      <td>Sean O'Donnell</td>\n",
              "      <td>9.0</td>\n",
              "      <td>United States</td>\n",
              "      <td>Fort Lauderdale</td>\n",
              "      <td>Florida</td>\n",
              "      <td>33311.0</td>\n",
              "      <td>South</td>\n",
              "      <td>FUR-TA-10000577</td>\n",
              "      <td>Furniture</td>\n",
              "      <td>Tables</td>\n",
              "      <td>Bretford CR4500 Series Slim Rectangular Table</td>\n",
              "      <td>957.5775</td>\n",
              "      <td>5</td>\n",
              "    </tr>\n",
              "    <tr>\n",
              "      <th>4</th>\n",
              "      <td>5</td>\n",
              "      <td>US-108966-2017_10_11</td>\n",
              "      <td>2017/10/11</td>\n",
              "      <td>2017/10/18</td>\n",
              "      <td>Standard Class</td>\n",
              "      <td>SO-20335</td>\n",
              "      <td>Sean O'Donnell</td>\n",
              "      <td>9.0</td>\n",
              "      <td>United States</td>\n",
              "      <td>Fort Lauderdale</td>\n",
              "      <td>Florida</td>\n",
              "      <td>33311.0</td>\n",
              "      <td>South</td>\n",
              "      <td>OFF-ST-10000760</td>\n",
              "      <td>Office Supplies</td>\n",
              "      <td>Storage</td>\n",
              "      <td>Eldon Fold 'N Roll Cart System</td>\n",
              "      <td>22.3680</td>\n",
              "      <td>2</td>\n",
              "    </tr>\n",
              "  </tbody>\n",
              "</table>\n",
              "</div>\n",
              "      <button class=\"colab-df-convert\" onclick=\"convertToInteractive('df-124d9c7c-c2d7-4275-86fc-ae2d993eecb6')\"\n",
              "              title=\"Convert this dataframe to an interactive table.\"\n",
              "              style=\"display:none;\">\n",
              "        \n",
              "  <svg xmlns=\"http://www.w3.org/2000/svg\" height=\"24px\"viewBox=\"0 0 24 24\"\n",
              "       width=\"24px\">\n",
              "    <path d=\"M0 0h24v24H0V0z\" fill=\"none\"/>\n",
              "    <path d=\"M18.56 5.44l.94 2.06.94-2.06 2.06-.94-2.06-.94-.94-2.06-.94 2.06-2.06.94zm-11 1L8.5 8.5l.94-2.06 2.06-.94-2.06-.94L8.5 2.5l-.94 2.06-2.06.94zm10 10l.94 2.06.94-2.06 2.06-.94-2.06-.94-.94-2.06-.94 2.06-2.06.94z\"/><path d=\"M17.41 7.96l-1.37-1.37c-.4-.4-.92-.59-1.43-.59-.52 0-1.04.2-1.43.59L10.3 9.45l-7.72 7.72c-.78.78-.78 2.05 0 2.83L4 21.41c.39.39.9.59 1.41.59.51 0 1.02-.2 1.41-.59l7.78-7.78 2.81-2.81c.8-.78.8-2.07 0-2.86zM5.41 20L4 18.59l7.72-7.72 1.47 1.35L5.41 20z\"/>\n",
              "  </svg>\n",
              "      </button>\n",
              "      \n",
              "  <style>\n",
              "    .colab-df-container {\n",
              "      display:flex;\n",
              "      flex-wrap:wrap;\n",
              "      gap: 12px;\n",
              "    }\n",
              "\n",
              "    .colab-df-convert {\n",
              "      background-color: #E8F0FE;\n",
              "      border: none;\n",
              "      border-radius: 50%;\n",
              "      cursor: pointer;\n",
              "      display: none;\n",
              "      fill: #1967D2;\n",
              "      height: 32px;\n",
              "      padding: 0 0 0 0;\n",
              "      width: 32px;\n",
              "    }\n",
              "\n",
              "    .colab-df-convert:hover {\n",
              "      background-color: #E2EBFA;\n",
              "      box-shadow: 0px 1px 2px rgba(60, 64, 67, 0.3), 0px 1px 3px 1px rgba(60, 64, 67, 0.15);\n",
              "      fill: #174EA6;\n",
              "    }\n",
              "\n",
              "    [theme=dark] .colab-df-convert {\n",
              "      background-color: #3B4455;\n",
              "      fill: #D2E3FC;\n",
              "    }\n",
              "\n",
              "    [theme=dark] .colab-df-convert:hover {\n",
              "      background-color: #434B5C;\n",
              "      box-shadow: 0px 1px 3px 1px rgba(0, 0, 0, 0.15);\n",
              "      filter: drop-shadow(0px 1px 2px rgba(0, 0, 0, 0.3));\n",
              "      fill: #FFFFFF;\n",
              "    }\n",
              "  </style>\n",
              "\n",
              "      <script>\n",
              "        const buttonEl =\n",
              "          document.querySelector('#df-124d9c7c-c2d7-4275-86fc-ae2d993eecb6 button.colab-df-convert');\n",
              "        buttonEl.style.display =\n",
              "          google.colab.kernel.accessAllowed ? 'block' : 'none';\n",
              "\n",
              "        async function convertToInteractive(key) {\n",
              "          const element = document.querySelector('#df-124d9c7c-c2d7-4275-86fc-ae2d993eecb6');\n",
              "          const dataTable =\n",
              "            await google.colab.kernel.invokeFunction('convertToInteractive',\n",
              "                                                     [key], {});\n",
              "          if (!dataTable) return;\n",
              "\n",
              "          const docLinkHtml = 'Like what you see? Visit the ' +\n",
              "            '<a target=\"_blank\" href=https://colab.research.google.com/notebooks/data_table.ipynb>data table notebook</a>'\n",
              "            + ' to learn more about interactive tables.';\n",
              "          element.innerHTML = '';\n",
              "          dataTable['output_type'] = 'display_data';\n",
              "          await google.colab.output.renderOutput(dataTable, element);\n",
              "          const docLink = document.createElement('div');\n",
              "          docLink.innerHTML = docLinkHtml;\n",
              "          element.appendChild(docLink);\n",
              "        }\n",
              "      </script>\n",
              "    </div>\n",
              "  </div>\n",
              "  "
            ],
            "text/plain": [
              "   Row ID              Order ID  ...     Sales Quantity\n",
              "0       1  CA-152156-2018_11_08  ...  261.9600        2\n",
              "1       2  CA-152156-2018_11_08  ...  731.9400        3\n",
              "2       3  CA-138688-2018_06_12  ...   14.6200        2\n",
              "3       4  US-108966-2017_10_11  ...  957.5775        5\n",
              "4       5  US-108966-2017_10_11  ...   22.3680        2\n",
              "\n",
              "[5 rows x 19 columns]"
            ]
          },
          "metadata": {},
          "execution_count": 4
        }
      ]
    },
    {
      "cell_type": "markdown",
      "source": [
        "<h5 align='center'>Copy database to changed it for Germany</h5>"
      ],
      "metadata": {
        "id": "ersH8PHg8ACh"
      }
    },
    {
      "cell_type": "code",
      "source": [
        "df=df2.copy()"
      ],
      "metadata": {
        "id": "UZbvOM_RHVuo"
      },
      "execution_count": 5,
      "outputs": []
    },
    {
      "cell_type": "code",
      "source": [
        "df2.info()"
      ],
      "metadata": {
        "colab": {
          "base_uri": "https://localhost:8080/"
        },
        "id": "ySAyJjt9RPfv",
        "outputId": "e75dfdf0-e4d6-4c24-ee33-c4260f3ea803"
      },
      "execution_count": 6,
      "outputs": [
        {
          "output_type": "stream",
          "name": "stdout",
          "text": [
            "<class 'pandas.core.frame.DataFrame'>\n",
            "RangeIndex: 9994 entries, 0 to 9993\n",
            "Data columns (total 19 columns):\n",
            " #   Column          Non-Null Count  Dtype  \n",
            "---  ------          --------------  -----  \n",
            " 0   Row ID          9994 non-null   int64  \n",
            " 1   Order ID        9994 non-null   object \n",
            " 2   Order Date      9994 non-null   object \n",
            " 3   Ship Date       9994 non-null   object \n",
            " 4   Ship Mode       9994 non-null   object \n",
            " 5   Customer ID     9994 non-null   object \n",
            " 6   Customer Name   9994 non-null   object \n",
            " 7   Sales Agent ID  9990 non-null   float64\n",
            " 8   Country/Region  9994 non-null   object \n",
            " 9   City            9994 non-null   object \n",
            " 10  State           9994 non-null   object \n",
            " 11  Postal Code     9983 non-null   float64\n",
            " 12  Region          9994 non-null   object \n",
            " 13  Product ID      9994 non-null   object \n",
            " 14  Category        9994 non-null   object \n",
            " 15  Sub-Category    9994 non-null   object \n",
            " 16  Product Name    9994 non-null   object \n",
            " 17  Sales           9994 non-null   float64\n",
            " 18  Quantity        9994 non-null   int64  \n",
            "dtypes: float64(3), int64(2), object(14)\n",
            "memory usage: 1.4+ MB\n"
          ]
        }
      ]
    },
    {
      "cell_type": "code",
      "source": [
        "df['Order Date'] = pd.to_datetime(df['Order Date'], infer_datetime_format=True)\n",
        "df['Ship Date'] = pd.to_datetime(df['Ship Date'], infer_datetime_format=True)"
      ],
      "metadata": {
        "id": "szjzmx-9RsXZ"
      },
      "execution_count": 7,
      "outputs": []
    },
    {
      "cell_type": "markdown",
      "source": [
        "<h5>Select Year by condition</h5>"
      ],
      "metadata": {
        "id": "kfUC8uM-a-IG"
      }
    },
    {
      "cell_type": "code",
      "source": [
        "df['Year'] = pd.to_datetime(df['Order Date']).apply(lambda x: '{year}'.format(year=x.year))\n",
        "df['Year']=df['Year'].astype(int)\n"
      ],
      "metadata": {
        "id": "K48boNP0SHuE"
      },
      "execution_count": 8,
      "outputs": []
    },
    {
      "cell_type": "code",
      "source": [
        "df['Year'].value_counts()"
      ],
      "metadata": {
        "colab": {
          "base_uri": "https://localhost:8080/"
        },
        "id": "qKEuJSqiSPUn",
        "outputId": "5f08ed19-9362-4754-c707-5a2773f22bdc"
      },
      "execution_count": 9,
      "outputs": [
        {
          "output_type": "execute_result",
          "data": {
            "text/plain": [
              "2019    3312\n",
              "2018    2587\n",
              "2017    2102\n",
              "2016    1993\n",
              "Name: Year, dtype: int64"
            ]
          },
          "metadata": {},
          "execution_count": 9
        }
      ]
    },
    {
      "cell_type": "code",
      "source": [
        "#df.drop(df[df.Year < 2018].index, inplace=True)"
      ],
      "metadata": {
        "id": "D_9OhEshTgFv"
      },
      "execution_count": 10,
      "outputs": []
    },
    {
      "cell_type": "code",
      "source": [
        "#df['Year'].value_counts()"
      ],
      "metadata": {
        "id": "BfoXZM_rUQ_d"
      },
      "execution_count": 11,
      "outputs": []
    },
    {
      "cell_type": "code",
      "source": [
        "print('Original Shape: {}'.format(df2.shape))\n",
        "print('New Data Shape: {}'.format(df.shape))"
      ],
      "metadata": {
        "colab": {
          "base_uri": "https://localhost:8080/"
        },
        "id": "079PU0k-WTBw",
        "outputId": "7cbd2c14-31e2-4497-f11e-ac250ff0683a"
      },
      "execution_count": 12,
      "outputs": [
        {
          "output_type": "stream",
          "name": "stdout",
          "text": [
            "Original Shape: (9994, 19)\n",
            "New Data Shape: (9994, 20)\n"
          ]
        }
      ]
    },
    {
      "cell_type": "markdown",
      "source": [
        "<h5>Fill NaN values</h5>"
      ],
      "metadata": {
        "id": "ueD4GsVx913e"
      }
    },
    {
      "cell_type": "code",
      "source": [
        "df2.isna().value_counts()"
      ],
      "metadata": {
        "colab": {
          "base_uri": "https://localhost:8080/"
        },
        "id": "1bnOCVH795dA",
        "outputId": "b4eea6e0-0fd3-48af-e3fe-d9e959e0b713"
      },
      "execution_count": 13,
      "outputs": [
        {
          "output_type": "execute_result",
          "data": {
            "text/plain": [
              "Row ID  Order ID  Order Date  Ship Date  Ship Mode  Customer ID  Customer Name  Sales Agent ID  Country/Region  City   State  Postal Code  Region  Product ID  Category  Sub-Category  Product Name  Sales  Quantity\n",
              "False   False     False       False      False      False        False          False           False           False  False  False        False   False       False     False         False         False  False       9979\n",
              "                                                                                                                              True         False   False       False     False         False         False  False         11\n",
              "                                                                                True            False           False  False  False        False   False       False     False         False         False  False          4\n",
              "dtype: int64"
            ]
          },
          "metadata": {},
          "execution_count": 13
        }
      ]
    },
    {
      "cell_type": "code",
      "source": [
        "mask = df2['Postal Code'].isna()\n",
        "mask = df2[mask]\n",
        "mask.head()"
      ],
      "metadata": {
        "colab": {
          "base_uri": "https://localhost:8080/",
          "height": 531
        },
        "id": "gHgECsCDkHAw",
        "outputId": "074bced5-59b9-435e-e1ec-8f75b6fc4d39"
      },
      "execution_count": 14,
      "outputs": [
        {
          "output_type": "execute_result",
          "data": {
            "text/html": [
              "\n",
              "  <div id=\"df-d3c007a1-2d77-4ca6-a42d-3d1e9b8c1a12\">\n",
              "    <div class=\"colab-df-container\">\n",
              "      <div>\n",
              "<style scoped>\n",
              "    .dataframe tbody tr th:only-of-type {\n",
              "        vertical-align: middle;\n",
              "    }\n",
              "\n",
              "    .dataframe tbody tr th {\n",
              "        vertical-align: top;\n",
              "    }\n",
              "\n",
              "    .dataframe thead th {\n",
              "        text-align: right;\n",
              "    }\n",
              "</style>\n",
              "<table border=\"1\" class=\"dataframe\">\n",
              "  <thead>\n",
              "    <tr style=\"text-align: right;\">\n",
              "      <th></th>\n",
              "      <th>Row ID</th>\n",
              "      <th>Order ID</th>\n",
              "      <th>Order Date</th>\n",
              "      <th>Ship Date</th>\n",
              "      <th>Ship Mode</th>\n",
              "      <th>Customer ID</th>\n",
              "      <th>Customer Name</th>\n",
              "      <th>Sales Agent ID</th>\n",
              "      <th>Country/Region</th>\n",
              "      <th>City</th>\n",
              "      <th>State</th>\n",
              "      <th>Postal Code</th>\n",
              "      <th>Region</th>\n",
              "      <th>Product ID</th>\n",
              "      <th>Category</th>\n",
              "      <th>Sub-Category</th>\n",
              "      <th>Product Name</th>\n",
              "      <th>Sales</th>\n",
              "      <th>Quantity</th>\n",
              "    </tr>\n",
              "  </thead>\n",
              "  <tbody>\n",
              "    <tr>\n",
              "      <th>1548</th>\n",
              "      <td>5275</td>\n",
              "      <td>CA-162887-2017_11_07</td>\n",
              "      <td>2017/11/07</td>\n",
              "      <td>2017/11/09</td>\n",
              "      <td>Second Class</td>\n",
              "      <td>SV-20785</td>\n",
              "      <td>Stewart Visinsky</td>\n",
              "      <td>44.0</td>\n",
              "      <td>United States</td>\n",
              "      <td>Burlington</td>\n",
              "      <td>Vermont</td>\n",
              "      <td>NaN</td>\n",
              "      <td>East</td>\n",
              "      <td>FUR-CH-10000595</td>\n",
              "      <td>Furniture</td>\n",
              "      <td>Chairs</td>\n",
              "      <td>Safco Contoured Stacking Chairs</td>\n",
              "      <td>715.20</td>\n",
              "      <td>3</td>\n",
              "    </tr>\n",
              "    <tr>\n",
              "      <th>2287</th>\n",
              "      <td>9742</td>\n",
              "      <td>CA-117086-2017_11_08</td>\n",
              "      <td>2017/11/08</td>\n",
              "      <td>2017/11/12</td>\n",
              "      <td>Standard Class</td>\n",
              "      <td>QJ-19255</td>\n",
              "      <td>Quincy Jones</td>\n",
              "      <td>44.0</td>\n",
              "      <td>United States</td>\n",
              "      <td>Burlington</td>\n",
              "      <td>Vermont</td>\n",
              "      <td>NaN</td>\n",
              "      <td>East</td>\n",
              "      <td>FUR-BO-10004834</td>\n",
              "      <td>Furniture</td>\n",
              "      <td>Bookcases</td>\n",
              "      <td>Riverside Palais Royal Lawyers Bookcase, Royal...</td>\n",
              "      <td>4404.90</td>\n",
              "      <td>5</td>\n",
              "    </tr>\n",
              "    <tr>\n",
              "      <th>5918</th>\n",
              "      <td>9390</td>\n",
              "      <td>US-127292-2019_01_19</td>\n",
              "      <td>2019/01/19</td>\n",
              "      <td>2019/01/23</td>\n",
              "      <td>Standard Class</td>\n",
              "      <td>RM-19375</td>\n",
              "      <td>Raymond Messe</td>\n",
              "      <td>44.0</td>\n",
              "      <td>United States</td>\n",
              "      <td>Burlington</td>\n",
              "      <td>Vermont</td>\n",
              "      <td>NaN</td>\n",
              "      <td>East</td>\n",
              "      <td>OFF-EN-10001509</td>\n",
              "      <td>Office Supplies</td>\n",
              "      <td>Envelopes</td>\n",
              "      <td>Poly String Tie Envelopes</td>\n",
              "      <td>2.04</td>\n",
              "      <td>1</td>\n",
              "    </tr>\n",
              "    <tr>\n",
              "      <th>5947</th>\n",
              "      <td>9388</td>\n",
              "      <td>US-127292-2019_01_19</td>\n",
              "      <td>2019/01/19</td>\n",
              "      <td>2019/01/23</td>\n",
              "      <td>Standard Class</td>\n",
              "      <td>RM-19375</td>\n",
              "      <td>Raymond Messe</td>\n",
              "      <td>44.0</td>\n",
              "      <td>United States</td>\n",
              "      <td>Burlington</td>\n",
              "      <td>Vermont</td>\n",
              "      <td>NaN</td>\n",
              "      <td>East</td>\n",
              "      <td>OFF-PA-10001970</td>\n",
              "      <td>Office Supplies</td>\n",
              "      <td>Paper</td>\n",
              "      <td>Xerox 1881</td>\n",
              "      <td>12.28</td>\n",
              "      <td>1</td>\n",
              "    </tr>\n",
              "    <tr>\n",
              "      <th>6191</th>\n",
              "      <td>9389</td>\n",
              "      <td>US-127292-2019_01_19</td>\n",
              "      <td>2019/01/19</td>\n",
              "      <td>2019/01/23</td>\n",
              "      <td>Standard Class</td>\n",
              "      <td>RM-19375</td>\n",
              "      <td>Raymond Messe</td>\n",
              "      <td>44.0</td>\n",
              "      <td>United States</td>\n",
              "      <td>Burlington</td>\n",
              "      <td>Vermont</td>\n",
              "      <td>NaN</td>\n",
              "      <td>East</td>\n",
              "      <td>OFF-AP-10000828</td>\n",
              "      <td>Office Supplies</td>\n",
              "      <td>Appliances</td>\n",
              "      <td>Avanti 4.4 Cu. Ft. Refrigerator</td>\n",
              "      <td>542.94</td>\n",
              "      <td>3</td>\n",
              "    </tr>\n",
              "  </tbody>\n",
              "</table>\n",
              "</div>\n",
              "      <button class=\"colab-df-convert\" onclick=\"convertToInteractive('df-d3c007a1-2d77-4ca6-a42d-3d1e9b8c1a12')\"\n",
              "              title=\"Convert this dataframe to an interactive table.\"\n",
              "              style=\"display:none;\">\n",
              "        \n",
              "  <svg xmlns=\"http://www.w3.org/2000/svg\" height=\"24px\"viewBox=\"0 0 24 24\"\n",
              "       width=\"24px\">\n",
              "    <path d=\"M0 0h24v24H0V0z\" fill=\"none\"/>\n",
              "    <path d=\"M18.56 5.44l.94 2.06.94-2.06 2.06-.94-2.06-.94-.94-2.06-.94 2.06-2.06.94zm-11 1L8.5 8.5l.94-2.06 2.06-.94-2.06-.94L8.5 2.5l-.94 2.06-2.06.94zm10 10l.94 2.06.94-2.06 2.06-.94-2.06-.94-.94-2.06-.94 2.06-2.06.94z\"/><path d=\"M17.41 7.96l-1.37-1.37c-.4-.4-.92-.59-1.43-.59-.52 0-1.04.2-1.43.59L10.3 9.45l-7.72 7.72c-.78.78-.78 2.05 0 2.83L4 21.41c.39.39.9.59 1.41.59.51 0 1.02-.2 1.41-.59l7.78-7.78 2.81-2.81c.8-.78.8-2.07 0-2.86zM5.41 20L4 18.59l7.72-7.72 1.47 1.35L5.41 20z\"/>\n",
              "  </svg>\n",
              "      </button>\n",
              "      \n",
              "  <style>\n",
              "    .colab-df-container {\n",
              "      display:flex;\n",
              "      flex-wrap:wrap;\n",
              "      gap: 12px;\n",
              "    }\n",
              "\n",
              "    .colab-df-convert {\n",
              "      background-color: #E8F0FE;\n",
              "      border: none;\n",
              "      border-radius: 50%;\n",
              "      cursor: pointer;\n",
              "      display: none;\n",
              "      fill: #1967D2;\n",
              "      height: 32px;\n",
              "      padding: 0 0 0 0;\n",
              "      width: 32px;\n",
              "    }\n",
              "\n",
              "    .colab-df-convert:hover {\n",
              "      background-color: #E2EBFA;\n",
              "      box-shadow: 0px 1px 2px rgba(60, 64, 67, 0.3), 0px 1px 3px 1px rgba(60, 64, 67, 0.15);\n",
              "      fill: #174EA6;\n",
              "    }\n",
              "\n",
              "    [theme=dark] .colab-df-convert {\n",
              "      background-color: #3B4455;\n",
              "      fill: #D2E3FC;\n",
              "    }\n",
              "\n",
              "    [theme=dark] .colab-df-convert:hover {\n",
              "      background-color: #434B5C;\n",
              "      box-shadow: 0px 1px 3px 1px rgba(0, 0, 0, 0.15);\n",
              "      filter: drop-shadow(0px 1px 2px rgba(0, 0, 0, 0.3));\n",
              "      fill: #FFFFFF;\n",
              "    }\n",
              "  </style>\n",
              "\n",
              "      <script>\n",
              "        const buttonEl =\n",
              "          document.querySelector('#df-d3c007a1-2d77-4ca6-a42d-3d1e9b8c1a12 button.colab-df-convert');\n",
              "        buttonEl.style.display =\n",
              "          google.colab.kernel.accessAllowed ? 'block' : 'none';\n",
              "\n",
              "        async function convertToInteractive(key) {\n",
              "          const element = document.querySelector('#df-d3c007a1-2d77-4ca6-a42d-3d1e9b8c1a12');\n",
              "          const dataTable =\n",
              "            await google.colab.kernel.invokeFunction('convertToInteractive',\n",
              "                                                     [key], {});\n",
              "          if (!dataTable) return;\n",
              "\n",
              "          const docLinkHtml = 'Like what you see? Visit the ' +\n",
              "            '<a target=\"_blank\" href=https://colab.research.google.com/notebooks/data_table.ipynb>data table notebook</a>'\n",
              "            + ' to learn more about interactive tables.';\n",
              "          element.innerHTML = '';\n",
              "          dataTable['output_type'] = 'display_data';\n",
              "          await google.colab.output.renderOutput(dataTable, element);\n",
              "          const docLink = document.createElement('div');\n",
              "          docLink.innerHTML = docLinkHtml;\n",
              "          element.appendChild(docLink);\n",
              "        }\n",
              "      </script>\n",
              "    </div>\n",
              "  </div>\n",
              "  "
            ],
            "text/plain": [
              "      Row ID              Order ID  ...    Sales Quantity\n",
              "1548    5275  CA-162887-2017_11_07  ...   715.20        3\n",
              "2287    9742  CA-117086-2017_11_08  ...  4404.90        5\n",
              "5918    9390  US-127292-2019_01_19  ...     2.04        1\n",
              "5947    9388  US-127292-2019_01_19  ...    12.28        1\n",
              "6191    9389  US-127292-2019_01_19  ...   542.94        3\n",
              "\n",
              "[5 rows x 19 columns]"
            ]
          },
          "metadata": {},
          "execution_count": 14
        }
      ]
    },
    {
      "cell_type": "code",
      "source": [
        "df['Postal Code'] = df['Postal Code'].fillna('0')\n",
        "df['Postal Code'] = df['Postal Code'].astype(str)"
      ],
      "metadata": {
        "id": "h2CGBES-kXXD"
      },
      "execution_count": 15,
      "outputs": []
    },
    {
      "cell_type": "markdown",
      "source": [
        "<h5>Replace Location Values</h5>"
      ],
      "metadata": {
        "id": "cBPZuiambUwV"
      }
    },
    {
      "cell_type": "code",
      "source": [
        "df['Country/Region'].value_counts()"
      ],
      "metadata": {
        "colab": {
          "base_uri": "https://localhost:8080/"
        },
        "id": "qB4hzZn5pIup",
        "outputId": "413f2885-b787-45e0-eee1-c7382c1f819b"
      },
      "execution_count": 16,
      "outputs": [
        {
          "output_type": "execute_result",
          "data": {
            "text/plain": [
              "United States    9994\n",
              "Name: Country/Region, dtype: int64"
            ]
          },
          "metadata": {},
          "execution_count": 16
        }
      ]
    },
    {
      "cell_type": "code",
      "source": [
        "df['Country/Region'] = df['Country/Region'].replace('United States' , 'Deutschland')"
      ],
      "metadata": {
        "id": "UtK25vd4pYbe"
      },
      "execution_count": 17,
      "outputs": []
    },
    {
      "cell_type": "code",
      "source": [
        "df2['State'].value_counts().shape"
      ],
      "metadata": {
        "colab": {
          "base_uri": "https://localhost:8080/"
        },
        "id": "kKDA3ItAWj3t",
        "outputId": "9829f2c1-70ca-4e69-8964-17ee05a235b8"
      },
      "execution_count": 18,
      "outputs": [
        {
          "output_type": "execute_result",
          "data": {
            "text/plain": [
              "(49,)"
            ]
          },
          "metadata": {},
          "execution_count": 18
        }
      ]
    },
    {
      "cell_type": "markdown",
      "source": [
        "<h5>Replace handly</h5>"
      ],
      "metadata": {
        "id": "E2hsTwtnbfyh"
      }
    },
    {
      "cell_type": "code",
      "source": [
        "df['State'] = df['State'].replace({'California' : 'Baden-Württemberg',\n",
        "                                   'New York' : 'Bayern',\n",
        "                                   'Texas' : 'Berlin',\n",
        "                                   'Pennsylvania' : 'Brandenburg',\n",
        "                                   'Washington' : 'Bremen',\n",
        "                                   'Illinois' : 'Hamburg',\n",
        "                                   'Ohio' : 'Hessen',\n",
        "                                   'Florida' : 'Niedersachsen',\n",
        "                                   'Michigan' : 'Mecklenburg-Vorpommern',\n",
        "                                   'North Carolina' : 'Nordrhein-Westfalen',\n",
        "                                   'Arizona' : 'Rheinland-Pfalz',\n",
        "                                   'Virginia' : 'Saarland',\n",
        "                                   'Georgia' : 'Sachsen',\n",
        "                                   'Tennessee' : 'Sachsen-Anhalt',\n",
        "                                   'Colorado' : 'Schleswig-Holstein',\n",
        "                                   'Indiana' : 'Thüringen'\n",
        "                                   })"
      ],
      "metadata": {
        "id": "SaHCFkTQD8hV"
      },
      "execution_count": 19,
      "outputs": []
    },
    {
      "cell_type": "code",
      "source": [
        "df['State'] = df['State'].replace({'Wyoming' : 'Baden-Württemberg',\n",
        "                                   'West Virginia' : 'Bayern',\n",
        "                                   'North Dakota' : 'Berlin',\n",
        "                                   'South Dakota' : 'Brandenburg',\n",
        "                                   'Montana' : 'Bremen',\n",
        "                                   'Idaho' : 'Hamburg',\n",
        "                                   'Kansas' : 'Hessen',\n",
        "                                   'New Hampshire' : 'Niedersachsen',\n",
        "                                   'Iowa' : 'Mecklenburg-Vorpommern',\n",
        "                                   'New Mexico' : 'Nordrhein-Westfalen',\n",
        "                                   'Nebraska' : 'Rheinland-Pfalz',\n",
        "                                   'Nevada' : 'Saarland',\n",
        "                                   'South Carolina' : 'Sachsen',\n",
        "                                   'Louisiana' : 'Sachsen-Anhalt'\n",
        "                                   })"
      ],
      "metadata": {
        "id": "3Mk3FOlyGmZy"
      },
      "execution_count": 20,
      "outputs": []
    },
    {
      "cell_type": "code",
      "source": [
        "df['State'] = df['State'].replace({'Mississippi' : 'Baden-Württemberg',\n",
        "                                   'Utah' : 'Bayern',\n",
        "                                   'Rhode Island' : 'Berlin',\n",
        "                                   'Arkansas' : 'Brandenburg',\n",
        "                                   'Alabama' : 'Bremen',\n",
        "                                   'Missouri' : 'Hamburg',\n",
        "                                   'Oklahoma' : 'Hessen',\n",
        "                                   'Connecticut' : 'Niedersachsen',\n",
        "                                   'Minnesota' : 'Mecklenburg-Vorpommern',\n",
        "                                   'Delaware' : 'Nordrhein-Westfalen',\n",
        "                                   'Maryland' : 'Rheinland-Pfalz',\n",
        "                                   'Wisconsin' : 'Saarland',\n",
        "                                   'Oregon' : 'Sachsen',\n",
        "                                   'New Jersey' : 'Sachsen-Anhalt',\n",
        "                                   'Massachusetts' : 'Schleswig-Holstein',\n",
        "                                   'Kentucky' : 'Thüringen'\n",
        "                                   })"
      ],
      "metadata": {
        "id": "5fsamB2LGEDj"
      },
      "execution_count": 21,
      "outputs": []
    },
    {
      "cell_type": "code",
      "source": [
        "df['State'] = df['State'].replace({'District of Columbia' : 'Berlin',\n",
        "                                   'Maine' : 'Hamburg',\n",
        "                                   'Vermont' : 'Nordrhein-Westfalen'\n",
        "                                   })"
      ],
      "metadata": {
        "id": "8VDxF1RLFEiP"
      },
      "execution_count": 22,
      "outputs": []
    },
    {
      "cell_type": "code",
      "source": [
        "#df['State'] = df['State'].replace({' Mecklenburg-Vorpommern':'Mecklenburg-Vorpommern' })"
      ],
      "metadata": {
        "id": "Ywj9RVOrKMH7"
      },
      "execution_count": 23,
      "outputs": []
    },
    {
      "cell_type": "code",
      "source": [
        "df['State'].value_counts().to_frame()"
      ],
      "metadata": {
        "colab": {
          "base_uri": "https://localhost:8080/",
          "height": 551
        },
        "id": "Pjos_gqvswzD",
        "outputId": "48b992e5-5a84-443e-86ff-d5ea11a20f76"
      },
      "execution_count": 24,
      "outputs": [
        {
          "output_type": "execute_result",
          "data": {
            "text/html": [
              "\n",
              "  <div id=\"df-aceb6a5b-7322-48d1-ba68-144f381809f9\">\n",
              "    <div class=\"colab-df-container\">\n",
              "      <div>\n",
              "<style scoped>\n",
              "    .dataframe tbody tr th:only-of-type {\n",
              "        vertical-align: middle;\n",
              "    }\n",
              "\n",
              "    .dataframe tbody tr th {\n",
              "        vertical-align: top;\n",
              "    }\n",
              "\n",
              "    .dataframe thead th {\n",
              "        text-align: right;\n",
              "    }\n",
              "</style>\n",
              "<table border=\"1\" class=\"dataframe\">\n",
              "  <thead>\n",
              "    <tr style=\"text-align: right;\">\n",
              "      <th></th>\n",
              "      <th>State</th>\n",
              "    </tr>\n",
              "  </thead>\n",
              "  <tbody>\n",
              "    <tr>\n",
              "      <th>Baden-Württemberg</th>\n",
              "      <td>2055</td>\n",
              "    </tr>\n",
              "    <tr>\n",
              "      <th>Bayern</th>\n",
              "      <td>1185</td>\n",
              "    </tr>\n",
              "    <tr>\n",
              "      <th>Berlin</th>\n",
              "      <td>1058</td>\n",
              "    </tr>\n",
              "    <tr>\n",
              "      <th>Brandenburg</th>\n",
              "      <td>659</td>\n",
              "    </tr>\n",
              "    <tr>\n",
              "      <th>Hamburg</th>\n",
              "      <td>587</td>\n",
              "    </tr>\n",
              "    <tr>\n",
              "      <th>Bremen</th>\n",
              "      <td>582</td>\n",
              "    </tr>\n",
              "    <tr>\n",
              "      <th>Hessen</th>\n",
              "      <td>559</td>\n",
              "    </tr>\n",
              "    <tr>\n",
              "      <th>Niedersachsen</th>\n",
              "      <td>492</td>\n",
              "    </tr>\n",
              "    <tr>\n",
              "      <th>Nordrhein-Westfalen</th>\n",
              "      <td>393</td>\n",
              "    </tr>\n",
              "    <tr>\n",
              "      <th>Mecklenburg-Vorpommern</th>\n",
              "      <td>374</td>\n",
              "    </tr>\n",
              "    <tr>\n",
              "      <th>Saarland</th>\n",
              "      <td>373</td>\n",
              "    </tr>\n",
              "    <tr>\n",
              "      <th>Rheinland-Pfalz</th>\n",
              "      <td>367</td>\n",
              "    </tr>\n",
              "    <tr>\n",
              "      <th>Sachsen-Anhalt</th>\n",
              "      <td>355</td>\n",
              "    </tr>\n",
              "    <tr>\n",
              "      <th>Sachsen</th>\n",
              "      <td>350</td>\n",
              "    </tr>\n",
              "    <tr>\n",
              "      <th>Schleswig-Holstein</th>\n",
              "      <td>317</td>\n",
              "    </tr>\n",
              "    <tr>\n",
              "      <th>Thüringen</th>\n",
              "      <td>288</td>\n",
              "    </tr>\n",
              "  </tbody>\n",
              "</table>\n",
              "</div>\n",
              "      <button class=\"colab-df-convert\" onclick=\"convertToInteractive('df-aceb6a5b-7322-48d1-ba68-144f381809f9')\"\n",
              "              title=\"Convert this dataframe to an interactive table.\"\n",
              "              style=\"display:none;\">\n",
              "        \n",
              "  <svg xmlns=\"http://www.w3.org/2000/svg\" height=\"24px\"viewBox=\"0 0 24 24\"\n",
              "       width=\"24px\">\n",
              "    <path d=\"M0 0h24v24H0V0z\" fill=\"none\"/>\n",
              "    <path d=\"M18.56 5.44l.94 2.06.94-2.06 2.06-.94-2.06-.94-.94-2.06-.94 2.06-2.06.94zm-11 1L8.5 8.5l.94-2.06 2.06-.94-2.06-.94L8.5 2.5l-.94 2.06-2.06.94zm10 10l.94 2.06.94-2.06 2.06-.94-2.06-.94-.94-2.06-.94 2.06-2.06.94z\"/><path d=\"M17.41 7.96l-1.37-1.37c-.4-.4-.92-.59-1.43-.59-.52 0-1.04.2-1.43.59L10.3 9.45l-7.72 7.72c-.78.78-.78 2.05 0 2.83L4 21.41c.39.39.9.59 1.41.59.51 0 1.02-.2 1.41-.59l7.78-7.78 2.81-2.81c.8-.78.8-2.07 0-2.86zM5.41 20L4 18.59l7.72-7.72 1.47 1.35L5.41 20z\"/>\n",
              "  </svg>\n",
              "      </button>\n",
              "      \n",
              "  <style>\n",
              "    .colab-df-container {\n",
              "      display:flex;\n",
              "      flex-wrap:wrap;\n",
              "      gap: 12px;\n",
              "    }\n",
              "\n",
              "    .colab-df-convert {\n",
              "      background-color: #E8F0FE;\n",
              "      border: none;\n",
              "      border-radius: 50%;\n",
              "      cursor: pointer;\n",
              "      display: none;\n",
              "      fill: #1967D2;\n",
              "      height: 32px;\n",
              "      padding: 0 0 0 0;\n",
              "      width: 32px;\n",
              "    }\n",
              "\n",
              "    .colab-df-convert:hover {\n",
              "      background-color: #E2EBFA;\n",
              "      box-shadow: 0px 1px 2px rgba(60, 64, 67, 0.3), 0px 1px 3px 1px rgba(60, 64, 67, 0.15);\n",
              "      fill: #174EA6;\n",
              "    }\n",
              "\n",
              "    [theme=dark] .colab-df-convert {\n",
              "      background-color: #3B4455;\n",
              "      fill: #D2E3FC;\n",
              "    }\n",
              "\n",
              "    [theme=dark] .colab-df-convert:hover {\n",
              "      background-color: #434B5C;\n",
              "      box-shadow: 0px 1px 3px 1px rgba(0, 0, 0, 0.15);\n",
              "      filter: drop-shadow(0px 1px 2px rgba(0, 0, 0, 0.3));\n",
              "      fill: #FFFFFF;\n",
              "    }\n",
              "  </style>\n",
              "\n",
              "      <script>\n",
              "        const buttonEl =\n",
              "          document.querySelector('#df-aceb6a5b-7322-48d1-ba68-144f381809f9 button.colab-df-convert');\n",
              "        buttonEl.style.display =\n",
              "          google.colab.kernel.accessAllowed ? 'block' : 'none';\n",
              "\n",
              "        async function convertToInteractive(key) {\n",
              "          const element = document.querySelector('#df-aceb6a5b-7322-48d1-ba68-144f381809f9');\n",
              "          const dataTable =\n",
              "            await google.colab.kernel.invokeFunction('convertToInteractive',\n",
              "                                                     [key], {});\n",
              "          if (!dataTable) return;\n",
              "\n",
              "          const docLinkHtml = 'Like what you see? Visit the ' +\n",
              "            '<a target=\"_blank\" href=https://colab.research.google.com/notebooks/data_table.ipynb>data table notebook</a>'\n",
              "            + ' to learn more about interactive tables.';\n",
              "          element.innerHTML = '';\n",
              "          dataTable['output_type'] = 'display_data';\n",
              "          await google.colab.output.renderOutput(dataTable, element);\n",
              "          const docLink = document.createElement('div');\n",
              "          docLink.innerHTML = docLinkHtml;\n",
              "          element.appendChild(docLink);\n",
              "        }\n",
              "      </script>\n",
              "    </div>\n",
              "  </div>\n",
              "  "
            ],
            "text/plain": [
              "                        State\n",
              "Baden-Württemberg        2055\n",
              "Bayern                   1185\n",
              "Berlin                   1058\n",
              "Brandenburg               659\n",
              "Hamburg                   587\n",
              "Bremen                    582\n",
              "Hessen                    559\n",
              "Niedersachsen             492\n",
              "Nordrhein-Westfalen       393\n",
              "Mecklenburg-Vorpommern    374\n",
              "Saarland                  373\n",
              "Rheinland-Pfalz           367\n",
              "Sachsen-Anhalt            355\n",
              "Sachsen                   350\n",
              "Schleswig-Holstein        317\n",
              "Thüringen                 288"
            ]
          },
          "metadata": {},
          "execution_count": 24
        }
      ]
    },
    {
      "cell_type": "markdown",
      "source": [
        "<h5>Replace City using conditions</h5>"
      ],
      "metadata": {
        "id": "7vYV4BCpbuTx"
      }
    },
    {
      "cell_type": "code",
      "source": [
        "mask = (df['State'] == 'Baden-Württemberg')\n",
        "mask = df[mask]\n",
        "mask['City'].value_counts()"
      ],
      "metadata": {
        "colab": {
          "base_uri": "https://localhost:8080/"
        },
        "id": "dDOdTmzYaIvG",
        "outputId": "80ce84a5-379b-49a3-9ec8-082fdefe7c53"
      },
      "execution_count": 25,
      "outputs": [
        {
          "output_type": "execute_result",
          "data": {
            "text/plain": [
              "Los Angeles       747\n",
              "San Francisco     510\n",
              "San Diego         170\n",
              "San Jose           42\n",
              "Jackson            34\n",
              "                 ... \n",
              "Cheyenne            1\n",
              "Whittier            1\n",
              "Citrus Heights      1\n",
              "Lake Elsinore       1\n",
              "Dublin              1\n",
              "Name: City, Length: 86, dtype: int64"
            ]
          },
          "metadata": {},
          "execution_count": 25
        }
      ]
    },
    {
      "cell_type": "code",
      "source": [
        "state = (df['State']=='Baden-Württemberg')\n",
        "new_reg = 'West'\n",
        "c1 = 'Los Angeles'\n",
        "c2 = 'San Francisco'\n",
        "col_city = 'City'\n",
        "col_post = 'Postal Code'\n",
        "col_reg = 'Region'\n",
        "\n",
        "condition4 = state & (df['City'] != c1) & (df['City'] != c2)\n",
        "new_city4 = 'Stuttgart'\n",
        "new_post4 = '70173'\n",
        "df.loc[condition4, col_city] = new_city4\n",
        "df.loc[condition4, col_post] = new_post4\n",
        "\n",
        "condition1 = state & (df['City'] == c2)\n",
        "new_city1 = 'Manheim'\n",
        "new_post1 = '68159'\n",
        "df.loc[condition1, col_city] = new_city1\n",
        "df.loc[condition1, col_post] = new_post1\n",
        "\n",
        "condition2 = state & (df['City'] == c1)\n",
        "new_city2 = 'Karlsruhe'\n",
        "new_post2 = '76131'\n",
        "df.loc[condition2, col_city] = new_city2\n",
        "df.loc[condition2, col_post] = new_post2\n",
        "\n",
        "condition3 = state\n",
        "df.loc[condition3, col_reg] = new_reg"
      ],
      "metadata": {
        "id": "NRpauSazNX4u"
      },
      "execution_count": 26,
      "outputs": []
    },
    {
      "cell_type": "code",
      "source": [
        "state = (df['State']=='Berlin')\n",
        "c1 = 'Houston'\n",
        "c2 = 'Dallas'\n",
        "new_reg = 'East'\n",
        "col_reg = 'Region'\n",
        "col_city = 'City'\n",
        "col_post = 'Postal Code'\n",
        "\n",
        "condition4 = state & (df['City'] != c1) & (df['City'] != c2)\n",
        "new_city4 = 'Berlin'\n",
        "new_post4 = '10115'\n",
        "df.loc[condition4, col_city] = new_city4\n",
        "df.loc[condition4, col_post] = new_post4\n",
        "\n",
        "condition1 = state & (df['City'] == c2)\n",
        "new_city1 = 'Berlin'\n",
        "new_post1 = '10178'\n",
        "df.loc[condition1, col_city] = new_city1\n",
        "df.loc[condition1, col_post] = new_post1\n",
        "\n",
        "condition2 = state & (df['City'] == c1)\n",
        "new_city2 = 'Berlin'\n",
        "new_post2 = '10247'\n",
        "df.loc[condition2, col_city] = new_city2\n",
        "df.loc[condition2, col_post] = new_post2\n",
        "\n",
        "condition3 = state\n",
        "df.loc[condition3, col_reg] = new_reg\n",
        "\n",
        "condition3 = state\n",
        "df.loc[condition3, col_reg] = new_reg"
      ],
      "metadata": {
        "id": "-sfsKe8ZNEDP"
      },
      "execution_count": 27,
      "outputs": []
    },
    {
      "cell_type": "code",
      "source": [
        "state = (df['State']=='Bayern')\n",
        "c1 = 'New York City'\n",
        "c2 = 'Rochester'\n",
        "new_reg = 'West'\n",
        "col_reg = 'Region'\n",
        "col_city = 'City'\n",
        "col_post = 'Postal Code'\n",
        "\n",
        "condition4 = state & (df['City'] != c1) & (df['City'] != c2)\n",
        "new_city4 = 'München'\n",
        "new_post4 = '80331'\n",
        "df.loc[condition4, col_city] = new_city4\n",
        "df.loc[condition4, col_post] = new_post4\n",
        "\n",
        "condition1 = state & (df['City'] == c2)\n",
        "new_city1 = 'Nürnberg'\n",
        "new_post1 = '90402'\n",
        "df.loc[condition1, col_city] = new_city1\n",
        "df.loc[condition1, col_post] = new_post1\n",
        "\n",
        "condition2 = state & (df['City'] == c1)\n",
        "new_city2 = 'Augsburg'\n",
        "new_post2 = '86150'\n",
        "df.loc[condition2, col_city] = new_city2\n",
        "df.loc[condition2, col_post] = new_post2\n",
        "\n",
        "condition3 = state\n",
        "df.loc[condition3, col_reg] = new_reg"
      ],
      "metadata": {
        "id": "2PPMHRyJMdBl"
      },
      "execution_count": 28,
      "outputs": []
    },
    {
      "cell_type": "code",
      "source": [
        "state = (df['State']=='Brandenburg')\n",
        "c1 = 'Philadelphia'\n",
        "c2 = 'Little Rock'\n",
        "new_reg = 'East'\n",
        "col_reg = 'Region'\n",
        "col_city = 'City'\n",
        "col_post = 'Postal Code'\n",
        "\n",
        "condition4 = state & (df['City'] != c1) & (df['City'] != c2)\n",
        "new_city4 = 'Postdam'\n",
        "new_post4 = '14467'\n",
        "df.loc[condition4, col_city] = new_city4\n",
        "df.loc[condition4, col_post] = new_post4\n",
        "\n",
        "condition1 = state & (df['City'] == c2)\n",
        "new_city1 = 'Cottbus'\n",
        "new_post1 = '03042'\n",
        "df.loc[condition1, col_city] = new_city1\n",
        "df.loc[condition1, col_post] = new_post1\n",
        "\n",
        "condition2 = state & (df['City'] == c1)\n",
        "new_city2 = 'Neuruppin'\n",
        "new_post2 = '16816'\n",
        "df.loc[condition2, col_city] = new_city2\n",
        "df.loc[condition2, col_post] = new_post2\n",
        "\n",
        "condition3 = state\n",
        "df.loc[condition3, col_reg] = new_reg"
      ],
      "metadata": {
        "id": "4Xesg4y3MHZa"
      },
      "execution_count": 29,
      "outputs": []
    },
    {
      "cell_type": "code",
      "source": [
        "state = (df['State']=='Bremen')\n",
        "c1 = 'Seattle'\n",
        "c2 = 'Edmonds'\n",
        "new_reg = 'West'\n",
        "col_reg = 'Region'\n",
        "col_city = 'City'\n",
        "col_post = 'Postal Code'\n",
        "\n",
        "condition4 = state & (df['City'] != c1) & (df['City'] != c2)\n",
        "new_city4 = 'Bremen'\n",
        "new_post4 = '28196'\n",
        "df.loc[condition4, col_city] = new_city4\n",
        "df.loc[condition4, col_post] = new_post4\n",
        "\n",
        "condition1 = state & (df['City'] == c2)\n",
        "new_city1 = 'Bremerhaven'\n",
        "new_post1 = '27568'\n",
        "df.loc[condition1, col_city] = new_city1\n",
        "df.loc[condition1, col_post] = new_post1\n",
        "\n",
        "condition2 = state & (df['City'] == c1)\n",
        "new_city2 = 'Bremerhaven'\n",
        "new_post2 = '27568'\n",
        "df.loc[condition2, col_city] = new_city2\n",
        "df.loc[condition2, col_post] = new_post2\n",
        "\n",
        "condition3 = state\n",
        "df.loc[condition3, col_reg] = new_reg"
      ],
      "metadata": {
        "id": "BQImm8jPL0b_"
      },
      "execution_count": 30,
      "outputs": []
    },
    {
      "cell_type": "code",
      "source": [
        "state = (df['State']=='Hamburg')\n",
        "c1 = 'Chicago'\n",
        "c2 = 'Springfield'\n",
        "new_reg = 'West'\n",
        "col_reg = 'Region'\n",
        "col_city = 'City'\n",
        "col_post = 'Postal Code'\n",
        "\n",
        "condition4 = state & (df['City'] != c1) & (df['City'] != c2)\n",
        "new_city4 = 'Hamburg'\n",
        "new_post4 = '20095'\n",
        "df.loc[condition4, col_city] = new_city4\n",
        "df.loc[condition4, col_post] = new_post4\n",
        "\n",
        "condition1 = state & (df['City'] == c2)\n",
        "new_city1 = 'Hamburg'\n",
        "new_post1 = '20146'\n",
        "df.loc[condition1, col_city] = new_city1\n",
        "df.loc[condition1, col_post] = new_post1\n",
        "\n",
        "condition2 = state & (df['City'] == c1)\n",
        "new_city2 = 'Hamburg'\n",
        "new_post2 = '20255'\n",
        "df.loc[condition2, col_city] = new_city2\n",
        "df.loc[condition2, col_post] = new_post2\n",
        "\n",
        "condition3 = state\n",
        "df.loc[condition3, col_reg] = new_reg"
      ],
      "metadata": {
        "id": "e0mP-nErLXe0"
      },
      "execution_count": 31,
      "outputs": []
    },
    {
      "cell_type": "code",
      "source": [
        "state = (df['State']=='Hessen')\n",
        "c1 = 'Columbus'\n",
        "c2 = 'Cleveland'\n",
        "new_reg = 'West'\n",
        "col_reg = 'Region'\n",
        "col_city = 'City'\n",
        "col_post = 'Postal Code'\n",
        "\n",
        "condition4 = state & (df['City'] != c1) & (df['City'] != c2)\n",
        "new_city4 = 'Kassel'\n",
        "new_post4 = '34117'\n",
        "df.loc[condition4, col_city] = new_city4\n",
        "df.loc[condition4, col_post] = new_post4\n",
        "\n",
        "condition1 = state & (df['City'] == c2)\n",
        "new_city1 = 'Marburg'\n",
        "new_post1 = '35037'\n",
        "df.loc[condition1, col_city] = new_city1\n",
        "df.loc[condition1, col_post] = new_post1\n",
        "\n",
        "condition2 = state & (df['City'] == c1)\n",
        "new_city2 = '- Frankfurt am Main'\n",
        "new_post2 = '60306'\n",
        "df.loc[condition2, col_city] = new_city2\n",
        "df.loc[condition2, col_post] = new_post2\n",
        "\n",
        "condition3 = state\n",
        "df.loc[condition3, col_reg] = new_reg"
      ],
      "metadata": {
        "id": "PHQDdJ2TLFYx"
      },
      "execution_count": 32,
      "outputs": []
    },
    {
      "cell_type": "code",
      "source": [
        "state = (df['State']=='Niedersachsen')\n",
        "c1 = 'Jacksonville'\n",
        "c2 = 'Miami'\n",
        "new_reg = 'West'\n",
        "col_reg = 'Region'\n",
        "col_city = 'City'\n",
        "col_post = 'Postal Code'\n",
        "\n",
        "condition4 = state & (df['City'] != c1) & (df['City'] != c2)\n",
        "new_city4 = 'Oldenburg'\n",
        "new_post4 = '26121'\n",
        "df.loc[condition4, col_city] = new_city4\n",
        "df.loc[condition4, col_post] = new_post4\n",
        "\n",
        "condition1 = state & (df['City'] == c2)\n",
        "new_city1 = 'Hannover'\n",
        "new_post1 = '30159'\n",
        "df.loc[condition1, col_city] = new_city1\n",
        "df.loc[condition1, col_post] = new_post1\n",
        "\n",
        "condition2 = state & (df['City'] == c1)\n",
        "new_city2 = 'Soltau'\n",
        "new_post2 = '29614'\n",
        "df.loc[condition2, col_city] = new_city2\n",
        "df.loc[condition2, col_post] = new_post2\n",
        "\n",
        "condition3 = state\n",
        "df.loc[condition3, col_reg] = new_reg"
      ],
      "metadata": {
        "id": "KGUW-qLSKvwP"
      },
      "execution_count": 33,
      "outputs": []
    },
    {
      "cell_type": "code",
      "source": [
        "state = (df['State']=='Mecklenburg-Vorpommern')\n",
        "c1 = 'Detroit'\n",
        "c2 = 'Jackson'\n",
        "new_reg = 'East'\n",
        "col_reg = 'Region'\n",
        "col_city = 'City'\n",
        "col_post = 'Postal Code'\n",
        "\n",
        "condition4 = state & (df['City'] != c1) & (df['City'] != c2)\n",
        "new_city4 = 'Rostock'\n",
        "new_post4 = '18055'\n",
        "df.loc[condition4, col_city] = new_city4\n",
        "df.loc[condition4, col_post] = new_post4\n",
        "\n",
        "condition1 = state & (df['City'] == c2)\n",
        "new_city1 = 'Schwerin'\n",
        "new_post1 = '19053'\n",
        "df.loc[condition1, col_city] = new_city1\n",
        "df.loc[condition1, col_post] = new_post1\n",
        "\n",
        "condition2 = state & (df['City'] == c1)\n",
        "new_city2 = 'Malchow'\n",
        "new_post2 = '17213'\n",
        "df.loc[condition2, col_city] = new_city2\n",
        "df.loc[condition2, col_post] = new_post2\n",
        "\n",
        "condition3 = state\n",
        "df.loc[condition3, col_reg] = new_reg"
      ],
      "metadata": {
        "id": "ziMP94q6J8C1"
      },
      "execution_count": 34,
      "outputs": []
    },
    {
      "cell_type": "code",
      "source": [
        "state = (df['State']=='Nordrhein-Westfalen')\n",
        "c1 = 'Newark'\n",
        "c2 = 'Charlotte'\n",
        "new_reg = 'West'\n",
        "col_reg = 'Region'\n",
        "col_city = 'City'\n",
        "col_post = 'Postal Code'\n",
        "\n",
        "condition4 = state & (df['City'] != c1) & (df['City'] != c2)\n",
        "new_city4 = 'Essen'\n",
        "new_post4 = '45239'\n",
        "df.loc[condition4, col_city] = new_city4\n",
        "df.loc[condition4, col_post] = new_post4\n",
        "\n",
        "condition1 = state & (df['City'] == c2)\n",
        "new_city1 = 'Wuppertal'\n",
        "new_post1 = '42103'\n",
        "df.loc[condition1, col_city] = new_city1\n",
        "df.loc[condition1, col_post] = new_post1\n",
        "\n",
        "condition2 = state & (df['City'] == c1)\n",
        "new_city2 = 'Düsseldorf'\n",
        "new_post2 = '40213'\n",
        "df.loc[condition2, col_city] = new_city2\n",
        "df.loc[condition2, col_post] = new_post2\n",
        "\n",
        "condition3 = state\n",
        "df.loc[condition3, col_reg] = new_reg"
      ],
      "metadata": {
        "id": "QiK4X4NvJqte"
      },
      "execution_count": 35,
      "outputs": []
    },
    {
      "cell_type": "code",
      "source": [
        "state = (df['State']=='Rheinland-Pfalz')\n",
        "c1 = 'Phoenix'\n",
        "c2 = 'Baltimore'\n",
        "new_reg = 'West'\n",
        "col_reg = 'Region'\n",
        "col_city = 'City'\n",
        "col_post = 'Postal Code'\n",
        "\n",
        "condition4 = state & (df['City'] != c1) & (df['City'] != c2)\n",
        "new_city4 = 'Tréveris'\n",
        "new_post4 = '54290'\n",
        "df.loc[condition4, col_city] = new_city4\n",
        "df.loc[condition4, col_post] = new_post4\n",
        "\n",
        "condition1 = state & (df['City'] == c2)\n",
        "new_city1 = 'Kaiserslautern'\n",
        "new_post1 = '67663'\n",
        "df.loc[condition1, col_city] = new_city1\n",
        "df.loc[condition1, col_post] = new_post1\n",
        "\n",
        "condition2 = state & (df['City'] == c1)\n",
        "new_city2 = 'Koblenz'\n",
        "new_post2 = '56068'\n",
        "df.loc[condition2, col_city] = new_city2\n",
        "df.loc[condition2, col_post] = new_post2\n",
        "\n",
        "condition3 = state\n",
        "df.loc[condition3, col_reg] = new_reg"
      ],
      "metadata": {
        "id": "YdTxyz6JJaoM"
      },
      "execution_count": 36,
      "outputs": []
    },
    {
      "cell_type": "code",
      "source": [
        "state = (df['State']=='Saarland')\n",
        "c1 = 'Springfield'\n",
        "c2 = 'Milwaukee'\n",
        "new_reg = 'West'\n",
        "col_reg = 'Region'\n",
        "col_city = 'City'\n",
        "col_post = 'Postal Code'\n",
        "\n",
        "condition4 = state & (df['City'] != c1) & (df['City'] != c2)\n",
        "new_city4 = 'Merzig'\n",
        "new_post4 = '66663'\n",
        "df.loc[condition4, col_city] = new_city4\n",
        "df.loc[condition4, col_post] = new_post4\n",
        "\n",
        "condition1 = state & (df['City'] == c2)\n",
        "new_city1 = 'Homburg'\n",
        "new_post1 = '66424'\n",
        "df.loc[condition1, col_city] = new_city1\n",
        "df.loc[condition1, col_post] = new_post1\n",
        "\n",
        "condition2 = state & (df['City'] == c1)\n",
        "new_city2 = 'Kirkel'\n",
        "new_post2 = '66459'\n",
        "df.loc[condition2, col_city] = new_city2\n",
        "df.loc[condition2, col_post] = new_post2\n",
        "\n",
        "condition3 = state\n",
        "df.loc[condition3, col_reg] = new_reg"
      ],
      "metadata": {
        "id": "aSKkWEG1JE47"
      },
      "execution_count": 37,
      "outputs": []
    },
    {
      "cell_type": "code",
      "source": [
        "state = (df['State']=='Sachsen')\n",
        "c1 = 'Columbus'\n",
        "c2 = 'Atlanta'\n",
        "new_reg = 'East'\n",
        "col_reg = 'Region'\n",
        "col_city = 'City'\n",
        "col_post = 'Postal Code'\n",
        "\n",
        "condition4 = state & (df['City'] != c1) & (df['City'] != c2)\n",
        "new_city4 = 'Lípsia'\n",
        "new_post4 = '04103'\n",
        "df.loc[condition4, col_city] = new_city4\n",
        "df.loc[condition4, col_post] = new_post4\n",
        "\n",
        "condition1 = state & (df['City'] == c2)\n",
        "new_city1 = 'Dresden'\n",
        "new_post1 = '01067'\n",
        "df.loc[condition1, col_city] = new_city1\n",
        "df.loc[condition1, col_post] = new_post1\n",
        "\n",
        "condition2 = state & (df['City'] == c1)\n",
        "new_city2 = 'Chemnitz'\n",
        "new_post2 = '09111'\n",
        "df.loc[condition2, col_city] = new_city2\n",
        "df.loc[condition2, col_post] = new_post2\n",
        "\n",
        "condition3 = state\n",
        "df.loc[condition3, col_reg] = new_reg"
      ],
      "metadata": {
        "id": "BaJfffr5Iuyc"
      },
      "execution_count": 38,
      "outputs": []
    },
    {
      "cell_type": "code",
      "source": [
        "state = (df['State']=='Sachsen-Anhalt')\n",
        "c1 = 'Memphis'\n",
        "c2 = 'Nashville'\n",
        "new_reg = 'East'\n",
        "col_reg = 'Region'\n",
        "col_city = 'City'\n",
        "col_post = 'Postal Code'\n",
        "\n",
        "condition4 = state & (df['City'] != c1) & (df['City'] != c2)\n",
        "new_city4 = 'Magdeburg'\n",
        "new_post4 = '39104'\n",
        "df.loc[condition4, col_city] = new_city4\n",
        "df.loc[condition4, col_post] = new_post4\n",
        "\n",
        "condition1 = state & (df['City'] == c2)\n",
        "new_city1 = 'Halle'\n",
        "new_post1 = '06217'\n",
        "df.loc[condition1, col_city] = new_city1\n",
        "df.loc[condition1, col_post] = new_post1\n",
        "\n",
        "condition2 = state & (df['City'] == c1)\n",
        "new_city2 = 'Merseburg'\n",
        "new_post2 = '06217'\n",
        "df.loc[condition2, col_city] = new_city2\n",
        "df.loc[condition2, col_post] = new_post2\n",
        "\n",
        "condition3 = state\n",
        "df.loc[condition3, col_reg] = new_reg"
      ],
      "metadata": {
        "id": "il-B6ompIdwB"
      },
      "execution_count": 39,
      "outputs": []
    },
    {
      "cell_type": "code",
      "source": [
        "state = (df['State']=='Schleswig-Holstein')\n",
        "c1 = 'Denver'\n",
        "c2 = 'Aurora'\n",
        "new_reg = 'West'\n",
        "col_reg = 'Region'\n",
        "col_city = 'City'\n",
        "col_post = 'Postal Code'\n",
        "\n",
        "condition4 = state & (df['City'] != c1) & (df['City'] != c2)\n",
        "new_city4 = 'Kiel'\n",
        "new_post4 = '24103'\n",
        "df.loc[condition4, col_city] = new_city4\n",
        "df.loc[condition4, col_post] = new_post4\n",
        "\n",
        "condition1 = state & (df['City'] == c2)\n",
        "new_city1 = 'Flensburg'\n",
        "new_post1 = '24939'\n",
        "df.loc[condition1, col_city] = new_city1\n",
        "df.loc[condition1, col_post] = new_post1\n",
        "\n",
        "condition2 = state & (df['City'] == c1)\n",
        "new_city2 = 'Lübeck'\n",
        "new_post2 = '23552'\n",
        "df.loc[condition2, col_city] = new_city2\n",
        "df.loc[condition2, col_post] = new_post2\n",
        "\n",
        "condition3 = state\n",
        "df.loc[condition3, col_reg] = new_reg"
      ],
      "metadata": {
        "id": "MroSdN0hIMGl"
      },
      "execution_count": 40,
      "outputs": []
    },
    {
      "cell_type": "code",
      "source": [
        "state = (df['State']=='Thüringen')\n",
        "c1 = 'Richmond'\n",
        "c2 = 'Henderson'\n",
        "new_reg = 'East'\n",
        "col_reg = 'Region'\n",
        "col_city = 'City'\n",
        "col_post = 'Postal Code'\n",
        "\n",
        "condition4 = state & (df['City'] != c1) & (df['City'] != c2)\n",
        "new_city4 = 'Erfurt'\n",
        "new_post4 = '99084'\n",
        "df.loc[condition4, col_city] = new_city4\n",
        "df.loc[condition4, col_post] = new_post4\n",
        "\n",
        "condition1 = state & (df['City'] == c2)\n",
        "new_city1 = 'Jena'\n",
        "new_post1 = '07743'\n",
        "df.loc[condition1, col_city] = new_city1\n",
        "df.loc[condition1, col_post] = new_post1\n",
        "\n",
        "condition2 = state & (df['City'] == c1)\n",
        "new_city2 = 'Gotha'\n",
        "new_post2 = '99868'\n",
        "df.loc[condition2, col_city] = new_city2\n",
        "df.loc[condition2, col_post] = new_post2\n",
        "\n",
        "condition3 = state\n",
        "df.loc[condition3, col_reg] = new_reg"
      ],
      "metadata": {
        "id": "hf4R1aFwfXTT"
      },
      "execution_count": 41,
      "outputs": []
    },
    {
      "cell_type": "code",
      "source": [
        "df.to_csv('WizardSupermarkt.csv', index=False)"
      ],
      "metadata": {
        "id": "WC1C88FHeunD"
      },
      "execution_count": 42,
      "outputs": []
    },
    {
      "cell_type": "code",
      "source": [
        ""
      ],
      "metadata": {
        "id": "2SfK_DSLN_lS"
      },
      "execution_count": 42,
      "outputs": []
    }
  ]
}